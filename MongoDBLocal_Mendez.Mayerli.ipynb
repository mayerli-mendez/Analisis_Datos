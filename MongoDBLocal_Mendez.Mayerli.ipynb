{
 "cells": [
  {
   "cell_type": "code",
   "execution_count": 6,
   "id": "73486d54",
   "metadata": {},
   "outputs": [],
   "source": [
    "# Ejercicio en clases\n",
    "# Auqui Manuel\n",
    "# Chala Maria\n",
    "# Guambo Leoni\n",
    "# Mayerli Mendez \n",
    "# Ortiz Jorge\n",
    "\n",
    "import pymongo\n",
    "from pymongo import MongoClient\n",
    "client = MongoClient(\"localhost\", 27017)\n",
    "import random\n",
    "dbs=client[\"ejercicio1\"]\n",
    "db=dbs.persona"
   ]
  },
  {
   "cell_type": "code",
   "execution_count": 7,
   "id": "b4218847",
   "metadata": {},
   "outputs": [
    {
     "name": "stdout",
     "output_type": "stream",
     "text": [
      "Ingrese el numero de personas: 4\n"
     ]
    }
   ],
   "source": [
    "nombre=[\"Ricardo\",\"Fernando\",\"Luisa\",\"Camila\",\"Daniela\",\"Vanessa\",\"Karen\",\"Cinthya\",\"Stefany\",\"Nicolas\"]\n",
    "apellido=[\"Auqui\",\"Galarza\",\"Mendez\",\"Ortiz\",\"Gallegos\",\"Guambo\",\"Naranjo\",\"Chala\",\"Cedeño\",\"Flores\"]\n",
    "num=int(input(\"Ingrese el numero de personas: \"))\n",
    "for i in range(num):\n",
    "    doc={\"Nombre\": [random.choice(nombre),random.choice(nombre)],\n",
    "         \"Apellido\":[random.choice(apellido),random.choice(apellido)],\n",
    "         \"Edad\": random.randint(18,80),\n",
    "         \"Cedula\": random.randint(1700000000,1999999999)}\n",
    "    db.insert_one(doc)"
   ]
  },
  {
   "cell_type": "code",
   "execution_count": 19,
   "id": "f00df6d3",
   "metadata": {},
   "outputs": [
    {
     "name": "stdout",
     "output_type": "stream",
     "text": [
      "_id         61e3854542c23f5d2890f005\n",
      "Nombre           [Stefany, Fernando]\n",
      "Apellido             [Auqui, Cedeño]\n",
      "Edad                              69\n",
      "Cedula                    1719325192\n",
      "dtype: object\n",
      "_id         61e3854642c23f5d2890f006\n",
      "Nombre             [Camila, Daniela]\n",
      "Apellido             [Cedeño, Chala]\n",
      "Edad                              78\n",
      "Cedula                    1771442887\n",
      "dtype: object\n",
      "_id         61e3854642c23f5d2890f007\n",
      "Nombre            [Vanessa, Nicolas]\n",
      "Apellido            [Mendez, Mendez]\n",
      "Edad                              55\n",
      "Cedula                    1881267965\n",
      "dtype: object\n",
      "_id         61e3854642c23f5d2890f008\n",
      "Nombre             [Karen, Fernando]\n",
      "Apellido            [Naranjo, Auqui]\n",
      "Edad                              75\n",
      "Cedula                    1716916210\n",
      "dtype: object\n",
      "_id         61e3854642c23f5d2890f009\n",
      "Nombre            [Stefany, Vanessa]\n",
      "Apellido             [Auqui, Cedeño]\n",
      "Edad                              18\n",
      "Cedula                    1941304886\n",
      "dtype: object\n",
      "_id         61e3854642c23f5d2890f00a\n",
      "Nombre              [Luisa, Ricardo]\n",
      "Apellido            [Auqui, Galarza]\n",
      "Edad                              66\n",
      "Cedula                    1726570837\n",
      "dtype: object\n",
      "_id         61e3854642c23f5d2890f00b\n",
      "Nombre           [Fernando, Nicolas]\n",
      "Apellido            [Ortiz, Naranjo]\n",
      "Edad                              69\n",
      "Cedula                    1735085793\n",
      "dtype: object\n",
      "_id         61e3854642c23f5d2890f00c\n",
      "Nombre                [Luisa, Luisa]\n",
      "Apellido              [Auqui, Ortiz]\n",
      "Edad                              40\n",
      "Cedula                    1828732850\n",
      "dtype: object\n",
      "_id         61e3854642c23f5d2890f00d\n",
      "Nombre            [Daniela, Cinthya]\n",
      "Apellido            [Mendez, Flores]\n",
      "Edad                              75\n",
      "Cedula                    1956315781\n",
      "dtype: object\n",
      "_id         61e3854642c23f5d2890f00e\n",
      "Nombre              [Karen, Ricardo]\n",
      "Apellido          [Cedeño, Gallegos]\n",
      "Edad                              19\n",
      "Cedula                    1816897321\n",
      "dtype: object\n",
      "_id         61e7702fdadbeeaacc179816\n",
      "Nombre             [Nicolas, Camila]\n",
      "Apellido           [Cedeño, Galarza]\n",
      "Edad                              33\n",
      "Cedula                    1839311689\n",
      "dtype: object\n",
      "_id         61e7702fdadbeeaacc179817\n",
      "Nombre               [Karen, Camila]\n",
      "Apellido           [Flores, Galarza]\n",
      "Edad                              45\n",
      "Cedula                    1814433382\n",
      "dtype: object\n",
      "_id         61e7702fdadbeeaacc179818\n",
      "Nombre           [Cinthya, Fernando]\n",
      "Apellido          [Gallegos, Mendez]\n",
      "Edad                              51\n",
      "Cedula                    1834833044\n",
      "dtype: object\n",
      "_id         61e7702fdadbeeaacc179819\n",
      "Nombre            [Vanessa, Ricardo]\n",
      "Apellido            [Guambo, Cedeño]\n",
      "Edad                              66\n",
      "Cedula                    1931412713\n",
      "dtype: object\n"
     ]
    }
   ],
   "source": [
    "#Funcion\n",
    "import pandas as pd\n",
    "def mostrar_datos():\n",
    "    for i in db.find(): \n",
    "        x=pd.Series(i)\n",
    "        print(x)\n",
    "mostrar_datos()        "
   ]
  },
  {
   "cell_type": "code",
   "execution_count": null,
   "id": "787718ae",
   "metadata": {},
   "outputs": [],
   "source": []
  },
  {
   "cell_type": "code",
   "execution_count": null,
   "id": "6d9235a2",
   "metadata": {},
   "outputs": [],
   "source": []
  }
 ],
 "metadata": {
  "kernelspec": {
   "display_name": "Python 3 (ipykernel)",
   "language": "python",
   "name": "python3"
  },
  "language_info": {
   "codemirror_mode": {
    "name": "ipython",
    "version": 3
   },
   "file_extension": ".py",
   "mimetype": "text/x-python",
   "name": "python",
   "nbconvert_exporter": "python",
   "pygments_lexer": "ipython3",
   "version": "3.10.1"
  }
 },
 "nbformat": 4,
 "nbformat_minor": 5
}
